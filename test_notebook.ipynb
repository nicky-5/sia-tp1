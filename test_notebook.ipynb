{
 "cells": [
  {
   "cell_type": "code",
   "execution_count": 1,
   "metadata": {},
   "outputs": [],
   "source": [
    "from pprint import pprint\n",
    "from src.sokoban import *\n",
    "from src.functions import *"
   ]
  },
  {
   "cell_type": "code",
   "execution_count": 2,
   "metadata": {},
   "outputs": [
    {
     "name": "stdout",
     "output_type": "stream",
     "text": [
      "      ###      \n",
      "      #·#      \n",
      "  #####·#####  \n",
      " ##         ## \n",
      "##  # # # #  ##\n",
      "#  ##     ##  #\n",
      "# ##  # #  ## #\n",
      "#     $@$     #\n",
      "####  ###  ####\n",
      "   #### ####   \n"
     ]
    }
   ],
   "source": [
    "# Example usage:\n",
    "file_name = 'test/test1'  # Replace 'your_file.txt' with the path to your file\n",
    "matrix = read_file_to_matrix(file_name)\n",
    "(board, state) = game_from_matrix(matrix)\n",
    "\n",
    "# Print game\n",
    "print_game(board, state)\n"
   ]
  },
  {
   "cell_type": "code",
   "execution_count": 3,
   "metadata": {},
   "outputs": [
    {
     "name": "stdout",
     "output_type": "stream",
     "text": [
      "      ###      \n",
      "      #·#      \n",
      "  #####·#####  \n",
      " ##         ## \n",
      "##  # # # #  ##\n",
      "#  ##     ##  #\n",
      "# ##  # #  ## #\n",
      "#     $ @$    #\n",
      "####  ###  ####\n",
      "   #### ####   \n"
     ]
    }
   ],
   "source": [
    "# Change state\n",
    "new_state = state.copy_move(board, Direction.RIGHT)\n",
    "print_game(board, new_state)"
   ]
  },
  {
   "cell_type": "code",
   "execution_count": 4,
   "metadata": {},
   "outputs": [
    {
     "name": "stdout",
     "output_type": "stream",
     "text": [
      "      ###      \n",
      "      #·#      \n",
      "  #####·#####  \n",
      " ##         ## \n",
      "##  # # # #  ##\n",
      "#  ##     ##  #\n",
      "# ##  # #  ## #\n",
      "#     $@$     #\n",
      "####  ###  ####\n",
      "   #### ####   \n"
     ]
    }
   ],
   "source": [
    "# Old state is preserved\n",
    "print_game(board, state)"
   ]
  },
  {
   "cell_type": "code",
   "execution_count": 5,
   "metadata": {},
   "outputs": [
    {
     "name": "stdout",
     "output_type": "stream",
     "text": [
      "Visited: False\n",
      "Visited: True\n"
     ]
    }
   ],
   "source": [
    "# States are hashable\n",
    "past_states = set()\n",
    "\n",
    "past_states.add(new_state)\n",
    "\n",
    "new_state = state.copy_move(board, Direction.LEFT)\n",
    "print(\"Visited:\", new_state in past_states) # First visit, print False\n",
    "past_states.add(new_state)\n",
    "\n",
    "new_state = state.copy_move(board, Direction.RIGHT)\n",
    "print(\"Visited:\", new_state in past_states) # Second visit, print True"
   ]
  }
 ],
 "metadata": {
  "kernelspec": {
   "display_name": "Python 3",
   "language": "python",
   "name": "python3"
  },
  "language_info": {
   "codemirror_mode": {
    "name": "ipython",
    "version": 3
   },
   "file_extension": ".py",
   "mimetype": "text/x-python",
   "name": "python",
   "nbconvert_exporter": "python",
   "pygments_lexer": "ipython3",
   "version": "3.10.12"
  }
 },
 "nbformat": 4,
 "nbformat_minor": 2
}
